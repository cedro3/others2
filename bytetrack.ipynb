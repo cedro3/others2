{
  "nbformat": 4,
  "nbformat_minor": 0,
  "metadata": {
    "colab": {
      "name": "bytetrack",
      "provenance": [],
      "collapsed_sections": [],
      "include_colab_link": true
    },
    "kernelspec": {
      "name": "python3",
      "display_name": "Python 3"
    },
    "language_info": {
      "name": "python"
    },
    "accelerator": "GPU"
  },
  "cells": [
    {
      "cell_type": "markdown",
      "metadata": {
        "id": "view-in-github",
        "colab_type": "text"
      },
      "source": [
        "<a href=\"https://colab.research.google.com/github/cedro3/others2/blob/main/bytetrack.ipynb\" target=\"_parent\"><img src=\"https://colab.research.google.com/assets/colab-badge.svg\" alt=\"Open In Colab\"/></a>"
      ]
    },
    {
      "cell_type": "markdown",
      "metadata": {
        "id": "pukZZfpw0dkX"
      },
      "source": [
        "### セットアップ"
      ]
    },
    {
      "cell_type": "code",
      "metadata": {
        "id": "QCVvFCX6z03x"
      },
      "source": [
        "# githubからコード取得\n",
        "!git clone https://github.com/ifzhang/ByteTrack.git\n",
        "%cd /content/ByteTrack/\n",
        "\n",
        "# 学習済みパラメータのダウンロード\n",
        "%mkdir pretrained\n",
        "%cd pretrained\n",
        "!gdown --id \"1P4mY0Yyd3PPTybgZkjMYhFri88nTmJX5\"\n",
        "\n",
        "# ライブラリー・インストール\n",
        "!pip3 install cython\n",
        "!pip3 install 'git+https://github.com/cocodataset/cocoapi.git#subdirectory=PythonAPI'\n",
        "!pip3 install cython_bbox\n",
        "\n",
        "%cd /content/ByteTrack/\n",
        "!pip3 install -r requirements.txt\n",
        "\n",
        "# Bytetrackインストール\n",
        "!python3 setup.py develop"
      ],
      "execution_count": null,
      "outputs": []
    },
    {
      "cell_type": "markdown",
      "metadata": {
        "id": "1ctukmJz0K37"
      },
      "source": [
        "### 動画から物体検出\n",
        "**--path の後に動画のパスを指定して下さい**"
      ]
    },
    {
      "cell_type": "code",
      "metadata": {
        "id": "38l_gUv4mlHV"
      },
      "source": [
        "# 推論\n",
        "%cd /content/ByteTrack\n",
        "!python3 tools/demo_track.py video -f exps/example/mot/yolox_x_mix_det.py\\\n",
        "                                     -c pretrained/bytetrack_x_mot17.pth.tar\\\n",
        "                                     --fp16 --fuse --save_result &> log.txt\\\n",
        "                                     --path ./videos/palace.mp4  # ビデオ指定\n",
        "\n",
        "# 結果動画のパス取得\n",
        "import re\n",
        "with open('log.txt', 'r') as file:\n",
        "    text = file.read().replace('\\n', '')\n",
        "\n",
        "m = re.search('video save_path is ./(.+?).mp4', text)\n",
        "if m:\n",
        "    found = '/content/ByteTrack/' + m.group(1) + \".mp4\"\n",
        "found\n",
        "\n",
        "# 動画のコーデック変換\n",
        "!ffmpeg -i $found -vcodec vp9 out.webm"
      ],
      "execution_count": null,
      "outputs": []
    },
    {
      "cell_type": "code",
      "metadata": {
        "id": "G5mX8AgEafXp"
      },
      "source": [
        "# 動画の再生\n",
        "from IPython.display import HTML\n",
        "from base64 import b64encode\n",
        "\n",
        "video_path = '/content/ByteTrack/out.webm'\n",
        "\n",
        "mp4 = open(video_path, \"rb\").read()\n",
        "data_url = \"data:video/webm;base64,\" + b64encode(mp4).decode()\n",
        "HTML(f\"\"\"\n",
        "<video width=800 controls>\n",
        "      <source src=\"{data_url}\" type=\"video/webm\">\n",
        "</video>\n",
        "\"\"\")"
      ],
      "execution_count": null,
      "outputs": []
    }
  ]
}