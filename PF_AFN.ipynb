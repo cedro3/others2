{
  "nbformat": 4,
  "nbformat_minor": 0,
  "metadata": {
    "colab": {
      "name": "PF-AFN",
      "provenance": [],
      "mount_file_id": "1EUpxRhRNfufW2ETytT_M36P7C4d_8sNb",
      "authorship_tag": "ABX9TyMOaYILtlSCQYI23SXR/DN5",
      "include_colab_link": true
    },
    "kernelspec": {
      "name": "python3",
      "display_name": "Python 3"
    },
    "language_info": {
      "name": "python"
    },
    "accelerator": "GPU"
  },
  "cells": [
    {
      "cell_type": "markdown",
      "metadata": {
        "id": "view-in-github",
        "colab_type": "text"
      },
      "source": [
        "<a href=\"https://colab.research.google.com/github/cedro3/others2/blob/main/PF_AFN.ipynb\" target=\"_parent\"><img src=\"https://colab.research.google.com/assets/colab-badge.svg\" alt=\"Open In Colab\"/></a>"
      ]
    },
    {
      "cell_type": "markdown",
      "metadata": {
        "id": "0McQU4b05yD8"
      },
      "source": [
        "## セットアップ"
      ]
    },
    {
      "cell_type": "code",
      "metadata": {
        "id": "NXCK3dWmH4yG"
      },
      "source": [
        "# githubからコードを取得\n",
        "! git clone https://github.com/geyuying/PF-AFN.git\n",
        "%cd PF-AFN/PF-AFN_test\n",
        "\n",
        "# 学習済みパラメータをダウンロード\n",
        "import gdown\n",
        "gdown.download('https://drive.google.com/u/0/uc?id=1CKB11poq6qcHXwf7WeoTrSc5jRICTJfd', 'checkpoints.zip', quiet=False)\n",
        "! unzip checkpoints.zip\n",
        "\n",
        "# フォルダー内表示関数\n",
        "import matplotlib.pyplot as plt\n",
        "from PIL import Image\n",
        "import os\n",
        "import numpy as np\n",
        "%matplotlib inline\n",
        "\n",
        "def display_pic(folder):\n",
        "    fig = plt.figure(figsize=(30, 40))\n",
        "    files = os.listdir(folder)\n",
        "    files.sort()\n",
        "    for i, file in enumerate(files):\n",
        "        if file=='.ipynb_checkpoints':\n",
        "           continue\n",
        "        if file=='.DS_Store':\n",
        "           continue\n",
        "        img = Image.open(folder+'/'+file)    \n",
        "        images = np.asarray(img)\n",
        "        ax = fig.add_subplot(10, 10, i+1, xticks=[], yticks=[])\n",
        "        image_plt = np.array(images)\n",
        "        ax.imshow(image_plt)\n",
        "        ax.set_xlabel(file, fontsize=15)               \n",
        "    plt.show()\n",
        "    plt.close()  "
      ],
      "execution_count": null,
      "outputs": []
    },
    {
      "cell_type": "markdown",
      "metadata": {
        "id": "pN7WBKLj6dZF"
      },
      "source": [
        "## データセット確認\n",
        "・test_clothes に対応する test_edge は同じファイル名にします\\\n",
        "・test_img にどの test_clothes を着用させるかの設定は、PF-AFN_test/demo.txt に記載されています。"
      ]
    },
    {
      "cell_type": "code",
      "metadata": {
        "id": "Fodb1M8dYGdr"
      },
      "source": [
        "display_pic('dataset/test_clothes')\n",
        "display_pic('dataset/test_edge')\n",
        "display_pic('dataset/test_img')"
      ],
      "execution_count": null,
      "outputs": []
    },
    {
      "cell_type": "markdown",
      "metadata": {
        "id": "YfVact0P6tBY"
      },
      "source": [
        "# コスチュームの入れ替え\n",
        "・PF-AFN_test/demo.txt の設定に従って、コスチュームを入れ替えます\\\n",
        "・入れ替えた結果は、PF-AFN_text/results/demo/PFAFN に保存されます"
      ]
    },
    {
      "cell_type": "code",
      "metadata": {
        "id": "L2tr-aVSNFFb"
      },
      "source": [
        "! python test.py"
      ],
      "execution_count": null,
      "outputs": []
    },
    {
      "cell_type": "markdown",
      "metadata": {
        "id": "HqJtT2bm9SRn"
      },
      "source": [
        "**結果画像の表示**"
      ]
    },
    {
      "cell_type": "code",
      "metadata": {
        "id": "bVW8BH9UX3pW"
      },
      "source": [
        "from IPython.display import Image, display_jpeg\n",
        "import glob\n",
        "\n",
        "files = glob.glob('results/demo/PFAFN/*.jpg')\n",
        "files.sort()\n",
        "\n",
        "for file in files:\n",
        "    print(file)\n",
        "    display_jpeg(Image(file))"
      ],
      "execution_count": null,
      "outputs": []
    }
  ]
}