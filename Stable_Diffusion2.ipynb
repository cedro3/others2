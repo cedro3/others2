{
  "cells": [
    {
      "cell_type": "markdown",
      "metadata": {
        "id": "view-in-github",
        "colab_type": "text"
      },
      "source": [
        "<a href=\"https://colab.research.google.com/github/cedro3/others2/blob/main/Stable_Diffusion2.ipynb\" target=\"_parent\"><img src=\"https://colab.research.google.com/assets/colab-badge.svg\" alt=\"Open In Colab\"/></a>"
      ]
    },
    {
      "cell_type": "markdown",
      "metadata": {
        "id": "w-0mHhP4tpTT"
      },
      "source": [
        "#**New: support added for image2image**"
      ]
    },
    {
      "cell_type": "code",
      "execution_count": null,
      "metadata": {
        "id": "9jUMAVmhVedQ"
      },
      "outputs": [],
      "source": [
        "#@title **セットアップ**\n",
        "\n",
        "# ライブラリ。インストール\n",
        "! pip install transformers gradio scipy ftfy \"ipywidgets>=7,<8\" datasets\n",
        "\n",
        "# githubからコードをコピーしインストール\n",
        "! git clone https://github.com/huggingface/diffusers.git\n",
        "! pip install git+https://github.com/huggingface/diffusers.git\n",
        "%cd diffusers\n",
        "\n",
        "# 関数定義（追加）\n",
        "import PIL\n",
        "from PIL import Image\n",
        "import numpy as np\n",
        "\n",
        "def preprocess(image):\n",
        "    w, h = image.size\n",
        "    w, h = map(lambda x: x - x % 32, (w, h))  # resize to integer multiple of 32\n",
        "    image = image.resize((w, h), resample=PIL.Image.LANCZOS)\n",
        "    image = np.array(image).astype(np.float32) / 255.0\n",
        "    image = image[None].transpose(0, 3, 1, 2)\n",
        "    image = torch.from_numpy(image)\n",
        "    return 2.*image - 1."
      ]
    },
    {
      "cell_type": "code",
      "execution_count": null,
      "metadata": {
        "id": "q4IQmzJOzuFz"
      },
      "outputs": [],
      "source": [
        "#@title **Hugging Faceへログイン**\n",
        "#@markdown　・事前にHagging Faceでアクセス・トークンを取得しておいて下さい\n",
        "\n",
        "from huggingface_hub import notebook_login\n",
        "\n",
        "# ログイン\n",
        "notebook_login()"
      ]
    },
    {
      "cell_type": "code",
      "execution_count": null,
      "metadata": {
        "id": "nySTNxLrWXSe"
      },
      "outputs": [],
      "source": [
        "#@title **本体プログラム**\n",
        "import gradio as gr\n",
        "import torch\n",
        "from torch import autocast\n",
        "from diffusers import StableDiffusionPipeline, LMSDiscreteScheduler\n",
        "import requests\n",
        "from PIL import Image\n",
        "from io import BytesIO\n",
        "from IPython.display import clear_output ###\n",
        "\n",
        "#from examples.inference.image_to_image import StableDiffusionImg2ImgPipeline, preprocess\n",
        "from diffusers import StableDiffusionImg2ImgPipeline\n",
        "\n",
        "lms = LMSDiscreteScheduler(\n",
        "    beta_start=0.00085, \n",
        "    beta_end=0.012, \n",
        "    beta_schedule=\"scaled_linear\"\n",
        ")\n",
        "\n",
        "pipe = StableDiffusionPipeline.from_pretrained(\n",
        "    \"CompVis/stable-diffusion-v1-4\", \n",
        "    scheduler=lms,\n",
        "    revision=\"fp16\", \n",
        "    use_auth_token=True\n",
        ").to(\"cuda\")\n",
        "\n",
        "pipeimg = StableDiffusionImg2ImgPipeline.from_pretrained(\n",
        "    \"CompVis/stable-diffusion-v1-4\",\n",
        "    revision=\"fp16\", \n",
        "    torch_dtype=torch.float16,\n",
        "    use_auth_token=True\n",
        ").to(\"cuda\")\n",
        "\n",
        "\n",
        "\n",
        "\n",
        "block = gr.Blocks(css=\".container { max-width: 800px; margin: auto; }\")\n",
        "\n",
        "num_samples = 2\n",
        "\n",
        "def infer(prompt, init_image, strength):\n",
        "    if init_image != None:\n",
        "        init_image = init_image.resize((512, 512))\n",
        "        init_image = preprocess(init_image)\n",
        "        with autocast(\"cuda\"):\n",
        "            images = pipeimg([prompt] * num_samples, init_image=init_image, strength=strength, guidance_scale=7.5)[0]\n",
        "    else: \n",
        "        with autocast(\"cuda\"):\n",
        "            images = pipe([prompt] * num_samples, guidance_scale=7.5)[0]\n",
        "\n",
        "    return images\n",
        "\n",
        "\n",
        "with block as demo:\n",
        "    gr.Markdown(\"<h1><center>Stable Diffusion</center></h1>\")\n",
        "    gr.Markdown(\n",
        "        \"Stable Diffusion is an AI model that generates images from any prompt you give!\"\n",
        "    )\n",
        "    with gr.Group():\n",
        "        with gr.Box():\n",
        "            with gr.Row().style(mobile_collapse=False, equal_height=True):\n",
        "\n",
        "                text = gr.Textbox(\n",
        "                    label=\"Enter your prompt\", show_label=False, max_lines=1\n",
        "                ).style(\n",
        "                    border=(True, False, True, True),\n",
        "                    rounded=(True, False, False, True),\n",
        "                    container=False,\n",
        "                )\n",
        "                btn = gr.Button(\"Run\").style(\n",
        "                    margin=False,\n",
        "                    rounded=(False, True, True, False),\n",
        "                )\n",
        "        strength_slider = gr.Slider(\n",
        "            label=\"Strength\",\n",
        "            maximum = 1,\n",
        "            value = 0.75         \n",
        "        )\n",
        "        image = gr.Image(\n",
        "            label=\"Intial Image\",\n",
        "            type=\"pil\"\n",
        "        )\n",
        "               \n",
        "        gallery = gr.Gallery(label=\"Generated images\", show_label=False).style(\n",
        "            grid=[2], height=\"auto\"\n",
        "        )\n",
        "        text.submit(infer, inputs=[text,image,strength_slider], outputs=gallery)\n",
        "        btn.click(infer, inputs=[text,image,strength_slider], outputs=gallery)\n",
        "\n",
        "    gr.Markdown(\n",
        "        \"\"\"___\n",
        "   <p style='text-align: center'>\n",
        "   Created by CompVis and Stability AI\n",
        "   <br/>\n",
        "   </p>\"\"\"\n",
        "    )\n",
        "\n",
        "clear_output() ###\n",
        "demo.launch(debug=True)"
      ]
    }
  ],
  "metadata": {
    "accelerator": "GPU",
    "colab": {
      "collapsed_sections": [],
      "machine_shape": "hm",
      "name": "Stable_Diffusion2",
      "provenance": [],
      "include_colab_link": true
    },
    "gpuClass": "standard",
    "kernelspec": {
      "display_name": "Python 3",
      "name": "python3"
    },
    "language_info": {
      "name": "python"
    }
  },
  "nbformat": 4,
  "nbformat_minor": 0
}
