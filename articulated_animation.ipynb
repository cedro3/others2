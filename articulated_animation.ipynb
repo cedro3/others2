{
  "nbformat": 4,
  "nbformat_minor": 0,
  "metadata": {
    "colab": {
      "name": "articulated_animation",
      "provenance": [],
      "machine_shape": "hm",
      "include_colab_link": true
    },
    "kernelspec": {
      "name": "python3",
      "display_name": "Python 3"
    },
    "language_info": {
      "name": "python"
    },
    "accelerator": "GPU"
  },
  "cells": [
    {
      "cell_type": "markdown",
      "metadata": {
        "id": "view-in-github",
        "colab_type": "text"
      },
      "source": [
        "<a href=\"https://colab.research.google.com/github/cedro3/others2/blob/main/articulated_animation.ipynb\" target=\"_parent\"><img src=\"https://colab.research.google.com/assets/colab-badge.svg\" alt=\"Open In Colab\"/></a>"
      ]
    },
    {
      "cell_type": "markdown",
      "metadata": {
        "id": "-FPGt7_2z7fn"
      },
      "source": [
        "\n",
        "# セットアップ"
      ]
    },
    {
      "cell_type": "code",
      "metadata": {
        "id": "2LoHDHBHyzzZ"
      },
      "source": [
        "# 1.git-lfsインストール\n",
        "!curl -s https://packagecloud.io/install/repositories/github/git-lfs/script.deb.sh | sudo bash\n",
        "!sudo apt-get install git-lfs\n",
        "!git lfs install\n",
        "\n",
        "# 2.githubからコードをコピー\n",
        "!git clone https://github.com/snap-research/articulated-animation.git\n",
        "%cd articulated-animation\n",
        "\n",
        "# --- パッチ（2021.9.1追加） ---\n",
        "import gdown\n",
        "gdown.download('https://drive.google.com/uc?id=1YHhLDf7QGhVUyAIMRsJBmCm0VDDcQdVV', './pt.zip', quiet=False)\n",
        "! unzip pt.zip -d checkpoints\n",
        "\n",
        "# 3.学習済みパラメータをダウンロード\n",
        "from demo import load_checkpoints\n",
        "generator, region_predictor, avd_network = load_checkpoints(config_path='config/ted384.yaml',\n",
        "                                                            checkpoint_path='checkpoints/ted384.pth')\n",
        "\n",
        "# 4.サンプル画像をダウンロード\n",
        "! pip install --upgrade gdown\n",
        "import gdown\n",
        "gdown.download('https://drive.google.com/uc?id=1ZF6fuBTjfVYKeSpX-0R_nMgYTCjSkxHB', './sample.zip', quiet=False)\n",
        "! unzip sample.zip -d sup-mat"
      ],
      "execution_count": null,
      "outputs": []
    },
    {
      "cell_type": "markdown",
      "metadata": {
        "id": "1MBVZKC9Lcsc"
      },
      "source": [
        "# 静止画と動画の読み込み"
      ]
    },
    {
      "cell_type": "code",
      "metadata": {
        "id": "CRVOnlASzrhI"
      },
      "source": [
        "# --- 静止画と動画の読み込み ---\n",
        "import imageio\n",
        "import numpy as np\n",
        "import matplotlib.pyplot as plt\n",
        "import matplotlib.animation as animation\n",
        "from skimage.transform import resize\n",
        "from IPython.display import HTML\n",
        "import warnings\n",
        "warnings.filterwarnings(\"ignore\")\n",
        "\n",
        "source_image = imageio.imread('sup-mat/001.png')\n",
        "driving_video = imageio.mimread('sup-mat/driving.mp4')\n",
        "\n",
        "\n",
        "source_image = resize(source_image, (384, 384))[..., :3]\n",
        "driving_video = [resize(frame, (384, 384))[..., :3] for frame in driving_video]\n",
        "\n",
        "def display(source, driving, generated=None):\n",
        "    fig = plt.figure(figsize=(8 + 4 * (generated is not None), 6))\n",
        "\n",
        "    ims = []\n",
        "    for i in range(len(driving)):\n",
        "        cols = [source]\n",
        "        cols.append(driving[i])\n",
        "        if generated is not None:\n",
        "            cols.append(generated[i])\n",
        "        im = plt.imshow(np.concatenate(cols, axis=1), animated=True)\n",
        "        plt.axis('off')\n",
        "        ims.append([im])\n",
        "\n",
        "    ani = animation.ArtistAnimation(fig, ims, interval=50, repeat_delay=1000)\n",
        "    plt.close()\n",
        "    return ani\n",
        "    \n",
        "HTML(display(source_image, driving_video).to_html5_video())"
      ],
      "execution_count": null,
      "outputs": []
    },
    {
      "cell_type": "markdown",
      "metadata": {
        "id": "bfyQMZ57ICJD"
      },
      "source": [
        "# 推論・アニメーションの作成"
      ]
    },
    {
      "cell_type": "code",
      "metadata": {
        "id": "Lcv6u7Bcz27V"
      },
      "source": [
        "# --- 推論・アニメーションの作成 ---\n",
        "from demo import make_animation\n",
        "from skimage import img_as_ubyte\n",
        "\n",
        "predictions = make_animation(source_image, driving_video, generator, \n",
        "                             region_predictor, avd_network, animation_mode='avd')\n",
        "\n",
        "#save resulting video\n",
        "imageio.mimsave('generated.mp4', [img_as_ubyte(frame) for frame in predictions])\n",
        "\n",
        "HTML(display(source_image, driving_video, predictions).to_html5_video())"
      ],
      "execution_count": null,
      "outputs": []
    }
  ]
}
