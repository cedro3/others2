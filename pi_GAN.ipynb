{
  "nbformat": 4,
  "nbformat_minor": 0,
  "metadata": {
    "colab": {
      "name": "pi-GAN",
      "provenance": [],
      "authorship_tag": "ABX9TyPpACWPJCJDnhEB9y9/MtpJ",
      "include_colab_link": true
    },
    "kernelspec": {
      "name": "python3",
      "display_name": "Python 3"
    },
    "language_info": {
      "name": "python"
    },
    "accelerator": "GPU"
  },
  "cells": [
    {
      "cell_type": "markdown",
      "metadata": {
        "id": "view-in-github",
        "colab_type": "text"
      },
      "source": [
        "<a href=\"https://colab.research.google.com/github/cedro3/others2/blob/main/pi_GAN.ipynb\" target=\"_parent\"><img src=\"https://colab.research.google.com/assets/colab-badge.svg\" alt=\"Open In Colab\"/></a>"
      ]
    },
    {
      "cell_type": "markdown",
      "metadata": {
        "id": "NcHH1BydC1pM"
      },
      "source": [
        "### セットアップ"
      ]
    },
    {
      "cell_type": "code",
      "metadata": {
        "id": "74w2kUu7vnfS"
      },
      "source": [
        "# gpu チェックチェック\n",
        "! nvidia-smi -L\n",
        "\n",
        "# githubからコードを取得\n",
        "! git clone https://github.com/marcoamonteiro/pi-GAN.git\n",
        "%cd pi-GAN\n",
        "\n",
        "# ライブラリーのインストール\n",
        "! pip install -r requirements.txt\n",
        "\n",
        "# 学習済みモデルのダウンロード\n",
        "import gdown\n",
        "gdown.download('https://drive.google.com/uc?id=1bRB4-KxQplJryJvqyEa8Ixkf_BVm4Nn6', './CelebA.zip', quiet=False)\n",
        "! unzip CelebA.zip\n",
        "gdown.download('https://drive.google.com/uc?id=1WBA-WI8DA7FqXn7__0TdBO0eO08C_EhG', './Cats.zip', quiet=False)\n",
        "! unzip Cats.zip\n",
        "gdown.download('https://drive.google.com/uc?id=1n4eXijbSD48oJVAbAV4hgdcTbT3Yv4xO', './CARLA.zip', quiet=False)\n",
        "! unzip CARLA"
      ],
      "execution_count": null,
      "outputs": []
    },
    {
      "cell_type": "markdown",
      "metadata": {
        "id": "OmRMbVFkDlsh"
      },
      "source": [
        "### コード本体"
      ]
    },
    {
      "cell_type": "code",
      "metadata": {
        "id": "UHWSZbgh2vbG"
      },
      "source": [
        "# マルチビュー画像を作成（CelebA）\n",
        "! python render_multiview_images.py CelebA/generator.pth --curriculum CelebA --seeds 0 1 2 3\n",
        "\n",
        "# 画像を表示\n",
        "from IPython.display import Image,display_png\n",
        "import glob\n",
        "files = glob.glob('imgs/*.png')\n",
        "files.sort()\n",
        "for file in files:\n",
        "    display_png(Image(file))"
      ],
      "execution_count": null,
      "outputs": []
    },
    {
      "cell_type": "code",
      "metadata": {
        "id": "RDw9yiWozBxe"
      },
      "source": [
        "# ビデオを作成（CelebA）\n",
        "! python render_video.py CelebA/generator.pth --curriculum CelebA --seeds 0 1 2 3"
      ],
      "execution_count": null,
      "outputs": []
    },
    {
      "cell_type": "code",
      "metadata": {
        "id": "fSxngVvtMxME"
      },
      "source": [
        "# mp4動画の再生\n",
        "video = '2.mp4' #@param {type:\"string\"}\n",
        "video_file = 'vids/'+video\n",
        "\n",
        "from IPython.display import HTML\n",
        "from base64 import b64encode\n",
        "mp4 = open(video_file, 'rb').read()\n",
        "data_url = 'data:video/mp4;base64,' + b64encode(mp4).decode()\n",
        "HTML(f\"\"\"\n",
        "<video width=\"50%\" height=\"50%\" controls>\n",
        "      <source src=\"{data_url}\" type=\"video/mp4\">\n",
        "</video>\"\"\")"
      ],
      "execution_count": null,
      "outputs": []
    },
    {
      "cell_type": "code",
      "metadata": {
        "id": "SUbhxsdkOaHE"
      },
      "source": [
        "# 補間ビデオを作成（CelebA）\n",
        "! python render_video_interpolation.py CelebA/generator.pth --curriculum CelebA --seeds 5 0 4 16 2 19 5\n",
        "\n",
        "# mp4動画の再生\n",
        "from IPython.display import HTML\n",
        "from base64 import b64encode\n",
        "mp4 = open('vids/interp.mp4', 'rb').read()\n",
        "data_url = 'data:video/mp4;base64,' + b64encode(mp4).decode()\n",
        "HTML(f\"\"\"\n",
        "<video width=\"50%\" height=\"50%\" controls>\n",
        "      <source src=\"{data_url}\" type=\"video/mp4\">\n",
        "</video>\"\"\")"
      ],
      "execution_count": null,
      "outputs": []
    },
    {
      "cell_type": "code",
      "metadata": {
        "id": "uztOZnBNLdCb"
      },
      "source": [
        "# 補間ビデオを作成（Cats）\n",
        "! python render_video_interpolation.py Cats/generator.pth --curriculum CelebA --seeds 0 4 8 5 9 1 0\n",
        "\n",
        "# mp4動画の再生\n",
        "from IPython.display import HTML\n",
        "from base64 import b64encode\n",
        "mp4 = open('vids/interp.mp4', 'rb').read()\n",
        "data_url = 'data:video/mp4;base64,' + b64encode(mp4).decode()\n",
        "HTML(f\"\"\"\n",
        "<video width=\"50%\" height=\"50%\" controls>\n",
        "      <source src=\"{data_url}\" type=\"video/mp4\">\n",
        "</video>\"\"\")"
      ],
      "execution_count": null,
      "outputs": []
    },
    {
      "cell_type": "code",
      "metadata": {
        "id": "pSF1l25fZEqN"
      },
      "source": [
        "# 補間ビデオを作成（CARLA）\n",
        "! python render_video_interpolation.py CARLA/generator.pth --curriculum CARLA --seeds 1 2 3 5 6 8 1\n",
        "\n",
        "# mp4動画の再生\n",
        "from IPython.display import HTML\n",
        "from base64 import b64encode\n",
        "mp4 = open('vids/interp.mp4', 'rb').read()\n",
        "data_url = 'data:video/mp4;base64,' + b64encode(mp4).decode()\n",
        "HTML(f\"\"\"\n",
        "<video width=\"50%\" height=\"50%\" controls>\n",
        "      <source src=\"{data_url}\" type=\"video/mp4\">\n",
        "</video>\"\"\")"
      ],
      "execution_count": null,
      "outputs": []
    }
  ]
}