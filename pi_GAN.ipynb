{
  "nbformat": 4,
  "nbformat_minor": 0,
  "metadata": {
    "colab": {
      "name": "pi-GAN",
      "provenance": [],
      "authorship_tag": "ABX9TyMJibPRY3r5F9Qtj+EWstGy",
      "include_colab_link": true
    },
    "kernelspec": {
      "name": "python3",
      "display_name": "Python 3"
    },
    "language_info": {
      "name": "python"
    },
    "accelerator": "GPU"
  },
  "cells": [
    {
      "cell_type": "markdown",
      "metadata": {
        "id": "view-in-github",
        "colab_type": "text"
      },
      "source": [
        "<a href=\"https://colab.research.google.com/github/cedro3/others2/blob/main/pi_GAN.ipynb\" target=\"_parent\"><img src=\"https://colab.research.google.com/assets/colab-badge.svg\" alt=\"Open In Colab\"/></a>"
      ]
    },
    {
      "cell_type": "markdown",
      "metadata": {
        "id": "NcHH1BydC1pM"
      },
      "source": [
        "### セットアップ"
      ]
    },
    {
      "cell_type": "code",
      "metadata": {
        "colab": {
          "base_uri": "https://localhost:8080/",
          "height": 1000
        },
        "id": "74w2kUu7vnfS",
        "outputId": "7915d0b6-e928-47f0-f444-93614474b159"
      },
      "source": [
        "# gpu チェックチェック\n",
        "! nvidia-smi -L\n",
        "\n",
        "# githubからコードを取得\n",
        "! git clone https://github.com/marcoamonteiro/pi-GAN.git\n",
        "%cd pi-GAN\n",
        "\n",
        "# ライブラリーのインストール\n",
        "! pip install -r requirements.txt\n",
        "\n",
        "# 学習済みモデルのダウンロード\n",
        "import gdown\n",
        "gdown.download('https://drive.google.com/uc?id=1bRB4-KxQplJryJvqyEa8Ixkf_BVm4Nn6', './CelebA.zip', quiet=False)\n",
        "! unzip CelebA.zip\n",
        "gdown.download('https://drive.google.com/uc?id=1WBA-WI8DA7FqXn7__0TdBO0eO08C_EhG', './Cats.zip', quiet=False)\n",
        "! unzip Cats.zip\n",
        "gdown.download('https://drive.google.com/uc?id=1n4eXijbSD48oJVAbAV4hgdcTbT3Yv4xO', './CARLA.zip', quiet=False)\n",
        "! unzip CARLA"
      ],
      "execution_count": 1,
      "outputs": [
        {
          "output_type": "stream",
          "name": "stdout",
          "text": [
            "Cloning into 'pi-GAN'...\n",
            "remote: Enumerating objects: 99, done.\u001b[K\n",
            "remote: Counting objects: 100% (99/99), done.\u001b[K\n",
            "remote: Compressing objects: 100% (50/50), done.\u001b[K\n",
            "remote: Total 99 (delta 53), reused 93 (delta 47), pack-reused 0\u001b[K\n",
            "Unpacking objects: 100% (99/99), done.\n",
            "/content/pi-GAN\n",
            "Collecting torch-ema@ git+https://github.com/fadel/pytorch_ema@3950a7b5c4b88f46fd14f620277bad21898597a9\n",
            "  Cloning https://github.com/fadel/pytorch_ema (to revision 3950a7b5c4b88f46fd14f620277bad21898597a9) to /tmp/pip-install-5xce1790/torch-ema_70ea310bd4e74708946034ee214b6e67\n",
            "  Running command git clone -q https://github.com/fadel/pytorch_ema /tmp/pip-install-5xce1790/torch-ema_70ea310bd4e74708946034ee214b6e67\n",
            "  Running command git rev-parse -q --verify 'sha^3950a7b5c4b88f46fd14f620277bad21898597a9'\n",
            "  Running command git fetch -q https://github.com/fadel/pytorch_ema 3950a7b5c4b88f46fd14f620277bad21898597a9\n",
            "  Running command git checkout -q 3950a7b5c4b88f46fd14f620277bad21898597a9\n",
            "Requirement already satisfied: numpy==1.19.5 in /usr/local/lib/python3.7/dist-packages (from -r requirements.txt (line 1)) (1.19.5)\n",
            "Requirement already satisfied: pickleshare==0.7.5 in /usr/local/lib/python3.7/dist-packages (from -r requirements.txt (line 2)) (0.7.5)\n",
            "Collecting Pillow==8.2.0\n",
            "  Downloading Pillow-8.2.0-cp37-cp37m-manylinux1_x86_64.whl (3.0 MB)\n",
            "\u001b[K     |████████████████████████████████| 3.0 MB 5.2 MB/s \n",
            "\u001b[?25hCollecting python-dateutil==2.8.1\n",
            "  Downloading python_dateutil-2.8.1-py2.py3-none-any.whl (227 kB)\n",
            "\u001b[K     |████████████████████████████████| 227 kB 69.6 MB/s \n",
            "\u001b[?25hCollecting pytorch-fid==0.2.0\n",
            "  Downloading pytorch-fid-0.2.0.tar.gz (11 kB)\n",
            "Collecting pytorch-lightning==1.3.4\n",
            "  Downloading pytorch_lightning-1.3.4-py3-none-any.whl (806 kB)\n",
            "\u001b[K     |████████████████████████████████| 806 kB 66.9 MB/s \n",
            "\u001b[?25hCollecting scikit-image==0.17.2\n",
            "  Downloading scikit_image-0.17.2-cp37-cp37m-manylinux1_x86_64.whl (12.5 MB)\n",
            "\u001b[K     |████████████████████████████████| 12.5 MB 63.6 MB/s \n",
            "\u001b[?25hCollecting scikit-video==1.1.11\n",
            "  Downloading scikit_video-1.1.11-py2.py3-none-any.whl (2.3 MB)\n",
            "\u001b[K     |████████████████████████████████| 2.3 MB 62.5 MB/s \n",
            "\u001b[?25hCollecting scipy==1.5.4\n",
            "  Downloading scipy-1.5.4-cp37-cp37m-manylinux1_x86_64.whl (25.9 MB)\n",
            "\u001b[K     |████████████████████████████████| 25.9 MB 1.5 MB/s \n",
            "\u001b[?25hCollecting tensorboard==2.4.1\n",
            "  Downloading tensorboard-2.4.1-py3-none-any.whl (10.6 MB)\n",
            "\u001b[K     |████████████████████████████████| 10.6 MB 19.8 MB/s \n",
            "\u001b[?25hRequirement already satisfied: tensorboard-plugin-wit==1.8.0 in /usr/local/lib/python3.7/dist-packages (from -r requirements.txt (line 11)) (1.8.0)\n",
            "Collecting torch==1.8.1\n",
            "  Downloading torch-1.8.1-cp37-cp37m-manylinux1_x86_64.whl (804.1 MB)\n",
            "\u001b[K     |████████████████████████████████| 804.1 MB 2.7 kB/s \n",
            "\u001b[?25hCollecting torch-fidelity==0.2.0\n",
            "  Downloading torch_fidelity-0.2.0-py3-none-any.whl (22 kB)\n",
            "Collecting torchmetrics==0.2.0\n",
            "  Downloading torchmetrics-0.2.0-py3-none-any.whl (176 kB)\n",
            "\u001b[K     |████████████████████████████████| 176 kB 74.1 MB/s \n",
            "\u001b[?25hCollecting torchvision==0.9.1\n",
            "  Downloading torchvision-0.9.1-cp37-cp37m-manylinux1_x86_64.whl (17.4 MB)\n",
            "\u001b[K     |████████████████████████████████| 17.4 MB 208 kB/s \n",
            "\u001b[?25hCollecting tqdm==4.60.0\n",
            "  Downloading tqdm-4.60.0-py2.py3-none-any.whl (75 kB)\n",
            "\u001b[K     |████████████████████████████████| 75 kB 6.1 MB/s \n",
            "\u001b[?25hCollecting traitlets==4.3.3\n",
            "  Downloading traitlets-4.3.3-py2.py3-none-any.whl (75 kB)\n",
            "\u001b[K     |████████████████████████████████| 75 kB 6.1 MB/s \n",
            "\u001b[?25hRequirement already satisfied: six>=1.5 in /usr/local/lib/python3.7/dist-packages (from python-dateutil==2.8.1->-r requirements.txt (line 4)) (1.15.0)\n",
            "Collecting future>=0.17.1\n",
            "  Downloading future-0.18.2.tar.gz (829 kB)\n",
            "\u001b[K     |████████████████████████████████| 829 kB 80.0 MB/s \n",
            "\u001b[?25hCollecting pyDeprecate==0.3.0\n",
            "  Downloading pyDeprecate-0.3.0-py3-none-any.whl (10 kB)\n",
            "Requirement already satisfied: packaging in /usr/local/lib/python3.7/dist-packages (from pytorch-lightning==1.3.4->-r requirements.txt (line 6)) (21.0)\n",
            "Collecting PyYAML<=5.4.1,>=5.1\n",
            "  Downloading PyYAML-5.4.1-cp37-cp37m-manylinux1_x86_64.whl (636 kB)\n",
            "\u001b[K     |████████████████████████████████| 636 kB 72.3 MB/s \n",
            "\u001b[?25hCollecting fsspec[http]>=2021.4.0\n",
            "  Downloading fsspec-2021.9.0-py3-none-any.whl (123 kB)\n",
            "\u001b[K     |████████████████████████████████| 123 kB 78.6 MB/s \n",
            "\u001b[?25hRequirement already satisfied: networkx>=2.0 in /usr/local/lib/python3.7/dist-packages (from scikit-image==0.17.2->-r requirements.txt (line 7)) (2.6.3)\n",
            "Requirement already satisfied: PyWavelets>=1.1.1 in /usr/local/lib/python3.7/dist-packages (from scikit-image==0.17.2->-r requirements.txt (line 7)) (1.1.1)\n",
            "Requirement already satisfied: imageio>=2.3.0 in /usr/local/lib/python3.7/dist-packages (from scikit-image==0.17.2->-r requirements.txt (line 7)) (2.4.1)\n",
            "Requirement already satisfied: matplotlib!=3.0.0,>=2.0.0 in /usr/local/lib/python3.7/dist-packages (from scikit-image==0.17.2->-r requirements.txt (line 7)) (3.2.2)\n",
            "Requirement already satisfied: tifffile>=2019.7.26 in /usr/local/lib/python3.7/dist-packages (from scikit-image==0.17.2->-r requirements.txt (line 7)) (2021.8.30)\n",
            "Requirement already satisfied: grpcio>=1.24.3 in /usr/local/lib/python3.7/dist-packages (from tensorboard==2.4.1->-r requirements.txt (line 10)) (1.40.0)\n",
            "Requirement already satisfied: werkzeug>=0.11.15 in /usr/local/lib/python3.7/dist-packages (from tensorboard==2.4.1->-r requirements.txt (line 10)) (1.0.1)\n",
            "Requirement already satisfied: absl-py>=0.4 in /usr/local/lib/python3.7/dist-packages (from tensorboard==2.4.1->-r requirements.txt (line 10)) (0.12.0)\n",
            "Requirement already satisfied: markdown>=2.6.8 in /usr/local/lib/python3.7/dist-packages (from tensorboard==2.4.1->-r requirements.txt (line 10)) (3.3.4)\n",
            "Requirement already satisfied: setuptools>=41.0.0 in /usr/local/lib/python3.7/dist-packages (from tensorboard==2.4.1->-r requirements.txt (line 10)) (57.4.0)\n",
            "Requirement already satisfied: google-auth<2,>=1.6.3 in /usr/local/lib/python3.7/dist-packages (from tensorboard==2.4.1->-r requirements.txt (line 10)) (1.35.0)\n",
            "Requirement already satisfied: wheel>=0.26 in /usr/local/lib/python3.7/dist-packages (from tensorboard==2.4.1->-r requirements.txt (line 10)) (0.37.0)\n",
            "Requirement already satisfied: requests<3,>=2.21.0 in /usr/local/lib/python3.7/dist-packages (from tensorboard==2.4.1->-r requirements.txt (line 10)) (2.23.0)\n",
            "Requirement already satisfied: protobuf>=3.6.0 in /usr/local/lib/python3.7/dist-packages (from tensorboard==2.4.1->-r requirements.txt (line 10)) (3.17.3)\n",
            "Requirement already satisfied: google-auth-oauthlib<0.5,>=0.4.1 in /usr/local/lib/python3.7/dist-packages (from tensorboard==2.4.1->-r requirements.txt (line 10)) (0.4.6)\n",
            "Requirement already satisfied: typing-extensions in /usr/local/lib/python3.7/dist-packages (from torch==1.8.1->-r requirements.txt (line 12)) (3.7.4.3)\n",
            "Requirement already satisfied: decorator in /usr/local/lib/python3.7/dist-packages (from traitlets==4.3.3->-r requirements.txt (line 18)) (4.4.2)\n",
            "Requirement already satisfied: ipython-genutils in /usr/local/lib/python3.7/dist-packages (from traitlets==4.3.3->-r requirements.txt (line 18)) (0.2.0)\n",
            "Collecting aiohttp\n",
            "  Downloading aiohttp-3.7.4.post0-cp37-cp37m-manylinux2014_x86_64.whl (1.3 MB)\n",
            "\u001b[K     |████████████████████████████████| 1.3 MB 43.6 MB/s \n",
            "\u001b[?25hRequirement already satisfied: cachetools<5.0,>=2.0.0 in /usr/local/lib/python3.7/dist-packages (from google-auth<2,>=1.6.3->tensorboard==2.4.1->-r requirements.txt (line 10)) (4.2.2)\n",
            "Requirement already satisfied: pyasn1-modules>=0.2.1 in /usr/local/lib/python3.7/dist-packages (from google-auth<2,>=1.6.3->tensorboard==2.4.1->-r requirements.txt (line 10)) (0.2.8)\n",
            "Requirement already satisfied: rsa<5,>=3.1.4 in /usr/local/lib/python3.7/dist-packages (from google-auth<2,>=1.6.3->tensorboard==2.4.1->-r requirements.txt (line 10)) (4.7.2)\n",
            "Requirement already satisfied: requests-oauthlib>=0.7.0 in /usr/local/lib/python3.7/dist-packages (from google-auth-oauthlib<0.5,>=0.4.1->tensorboard==2.4.1->-r requirements.txt (line 10)) (1.3.0)\n",
            "Requirement already satisfied: importlib-metadata in /usr/local/lib/python3.7/dist-packages (from markdown>=2.6.8->tensorboard==2.4.1->-r requirements.txt (line 10)) (4.8.1)\n",
            "Requirement already satisfied: pyparsing!=2.0.4,!=2.1.2,!=2.1.6,>=2.0.1 in /usr/local/lib/python3.7/dist-packages (from matplotlib!=3.0.0,>=2.0.0->scikit-image==0.17.2->-r requirements.txt (line 7)) (2.4.7)\n",
            "Requirement already satisfied: cycler>=0.10 in /usr/local/lib/python3.7/dist-packages (from matplotlib!=3.0.0,>=2.0.0->scikit-image==0.17.2->-r requirements.txt (line 7)) (0.10.0)\n",
            "Requirement already satisfied: kiwisolver>=1.0.1 in /usr/local/lib/python3.7/dist-packages (from matplotlib!=3.0.0,>=2.0.0->scikit-image==0.17.2->-r requirements.txt (line 7)) (1.3.2)\n",
            "Requirement already satisfied: pyasn1<0.5.0,>=0.4.6 in /usr/local/lib/python3.7/dist-packages (from pyasn1-modules>=0.2.1->google-auth<2,>=1.6.3->tensorboard==2.4.1->-r requirements.txt (line 10)) (0.4.8)\n",
            "Requirement already satisfied: chardet<4,>=3.0.2 in /usr/local/lib/python3.7/dist-packages (from requests<3,>=2.21.0->tensorboard==2.4.1->-r requirements.txt (line 10)) (3.0.4)\n",
            "Requirement already satisfied: idna<3,>=2.5 in /usr/local/lib/python3.7/dist-packages (from requests<3,>=2.21.0->tensorboard==2.4.1->-r requirements.txt (line 10)) (2.10)\n",
            "Requirement already satisfied: urllib3!=1.25.0,!=1.25.1,<1.26,>=1.21.1 in /usr/local/lib/python3.7/dist-packages (from requests<3,>=2.21.0->tensorboard==2.4.1->-r requirements.txt (line 10)) (1.24.3)\n",
            "Requirement already satisfied: certifi>=2017.4.17 in /usr/local/lib/python3.7/dist-packages (from requests<3,>=2.21.0->tensorboard==2.4.1->-r requirements.txt (line 10)) (2021.5.30)\n",
            "Requirement already satisfied: oauthlib>=3.0.0 in /usr/local/lib/python3.7/dist-packages (from requests-oauthlib>=0.7.0->google-auth-oauthlib<0.5,>=0.4.1->tensorboard==2.4.1->-r requirements.txt (line 10)) (3.1.1)\n",
            "Collecting yarl<2.0,>=1.0\n",
            "  Downloading yarl-1.6.3-cp37-cp37m-manylinux2014_x86_64.whl (294 kB)\n",
            "\u001b[K     |████████████████████████████████| 294 kB 73.6 MB/s \n",
            "\u001b[?25hCollecting async-timeout<4.0,>=3.0\n",
            "  Downloading async_timeout-3.0.1-py3-none-any.whl (8.2 kB)\n",
            "Collecting multidict<7.0,>=4.5\n",
            "  Downloading multidict-5.1.0-cp37-cp37m-manylinux2014_x86_64.whl (142 kB)\n",
            "\u001b[K     |████████████████████████████████| 142 kB 74.2 MB/s \n",
            "\u001b[?25hRequirement already satisfied: attrs>=17.3.0 in /usr/local/lib/python3.7/dist-packages (from aiohttp->fsspec[http]>=2021.4.0->pytorch-lightning==1.3.4->-r requirements.txt (line 6)) (21.2.0)\n",
            "Requirement already satisfied: zipp>=0.5 in /usr/local/lib/python3.7/dist-packages (from importlib-metadata->markdown>=2.6.8->tensorboard==2.4.1->-r requirements.txt (line 10)) (3.5.0)\n",
            "Building wheels for collected packages: torch-ema, pytorch-fid, future\n",
            "  Building wheel for torch-ema (setup.py) ... \u001b[?25l\u001b[?25hdone\n",
            "  Created wheel for torch-ema: filename=torch_ema-0.2-py3-none-any.whl size=3335 sha256=e93c0bd64480e8877a2ac65a2972e16c86980e61ece12bd56b73f4c302adf531\n",
            "  Stored in directory: /root/.cache/pip/wheels/1f/2e/b2/e07f92ae2f76b38c0f2c97f3e4be742175a26b765311cb87db\n",
            "  Building wheel for pytorch-fid (setup.py) ... \u001b[?25l\u001b[?25hdone\n",
            "  Created wheel for pytorch-fid: filename=pytorch_fid-0.2.0-py3-none-any.whl size=10547 sha256=c6491a5d5586f5f6c6f1cc363a4c81ce2479238e445389a50cda5bad99072534\n",
            "  Stored in directory: /root/.cache/pip/wheels/6c/0d/de/fa3f925573a4f0162182248c0db291d7ae4d9392898b7cbe5a\n",
            "  Building wheel for future (setup.py) ... \u001b[?25l\u001b[?25hdone\n",
            "  Created wheel for future: filename=future-0.18.2-py3-none-any.whl size=491070 sha256=ef46b4c4cd639b502f671a9aa7e76d126f4274f06aae8684a650ecb0dc06e71b\n",
            "  Stored in directory: /root/.cache/pip/wheels/56/b0/fe/4410d17b32f1f0c3cf54cdfb2bc04d7b4b8f4ae377e2229ba0\n",
            "Successfully built torch-ema pytorch-fid future\n",
            "Installing collected packages: multidict, yarl, async-timeout, torch, python-dateutil, Pillow, fsspec, aiohttp, tqdm, torchvision, torchmetrics, tensorboard, scipy, PyYAML, pyDeprecate, future, traitlets, torch-fidelity, torch-ema, scikit-video, scikit-image, pytorch-lightning, pytorch-fid\n",
            "  Attempting uninstall: torch\n",
            "    Found existing installation: torch 1.9.0+cu102\n",
            "    Uninstalling torch-1.9.0+cu102:\n",
            "      Successfully uninstalled torch-1.9.0+cu102\n",
            "  Attempting uninstall: python-dateutil\n",
            "    Found existing installation: python-dateutil 2.8.2\n",
            "    Uninstalling python-dateutil-2.8.2:\n",
            "      Successfully uninstalled python-dateutil-2.8.2\n",
            "  Attempting uninstall: Pillow\n",
            "    Found existing installation: Pillow 7.1.2\n",
            "    Uninstalling Pillow-7.1.2:\n",
            "      Successfully uninstalled Pillow-7.1.2\n",
            "  Attempting uninstall: tqdm\n",
            "    Found existing installation: tqdm 4.62.3\n",
            "    Uninstalling tqdm-4.62.3:\n",
            "      Successfully uninstalled tqdm-4.62.3\n",
            "  Attempting uninstall: torchvision\n",
            "    Found existing installation: torchvision 0.10.0+cu102\n",
            "    Uninstalling torchvision-0.10.0+cu102:\n",
            "      Successfully uninstalled torchvision-0.10.0+cu102\n",
            "  Attempting uninstall: tensorboard\n",
            "    Found existing installation: tensorboard 2.6.0\n",
            "    Uninstalling tensorboard-2.6.0:\n",
            "      Successfully uninstalled tensorboard-2.6.0\n",
            "  Attempting uninstall: scipy\n",
            "    Found existing installation: scipy 1.4.1\n",
            "    Uninstalling scipy-1.4.1:\n",
            "      Successfully uninstalled scipy-1.4.1\n",
            "  Attempting uninstall: PyYAML\n",
            "    Found existing installation: PyYAML 3.13\n",
            "    Uninstalling PyYAML-3.13:\n",
            "      Successfully uninstalled PyYAML-3.13\n",
            "  Attempting uninstall: future\n",
            "    Found existing installation: future 0.16.0\n",
            "    Uninstalling future-0.16.0:\n",
            "      Successfully uninstalled future-0.16.0\n",
            "  Attempting uninstall: traitlets\n",
            "    Found existing installation: traitlets 5.1.0\n",
            "    Uninstalling traitlets-5.1.0:\n",
            "      Successfully uninstalled traitlets-5.1.0\n",
            "  Attempting uninstall: scikit-image\n",
            "    Found existing installation: scikit-image 0.16.2\n",
            "    Uninstalling scikit-image-0.16.2:\n",
            "      Successfully uninstalled scikit-image-0.16.2\n",
            "\u001b[31mERROR: pip's dependency resolver does not currently take into account all the packages that are installed. This behaviour is the source of the following dependency conflicts.\n",
            "torchtext 0.10.0 requires torch==1.9.0, but you have torch 1.8.1 which is incompatible.\n",
            "tensorflow 2.6.0 requires tensorboard~=2.6, but you have tensorboard 2.4.1 which is incompatible.\n",
            "nbclient 0.5.4 requires jupyter-client>=6.1.5, but you have jupyter-client 5.3.5 which is incompatible.\n",
            "albumentations 0.1.12 requires imgaug<0.2.7,>=0.2.5, but you have imgaug 0.2.9 which is incompatible.\u001b[0m\n",
            "Successfully installed Pillow-8.2.0 PyYAML-5.4.1 aiohttp-3.7.4.post0 async-timeout-3.0.1 fsspec-2021.9.0 future-0.18.2 multidict-5.1.0 pyDeprecate-0.3.0 python-dateutil-2.8.1 pytorch-fid-0.2.0 pytorch-lightning-1.3.4 scikit-image-0.17.2 scikit-video-1.1.11 scipy-1.5.4 tensorboard-2.4.1 torch-1.8.1 torch-ema-0.2 torch-fidelity-0.2.0 torchmetrics-0.2.0 torchvision-0.9.1 tqdm-4.60.0 traitlets-4.3.3 yarl-1.6.3\n"
          ]
        },
        {
          "output_type": "display_data",
          "data": {
            "application/vnd.colab-display-data+json": {
              "pip_warning": {
                "packages": [
                  "PIL",
                  "dateutil",
                  "traitlets"
                ]
              }
            }
          },
          "metadata": {}
        },
        {
          "output_type": "stream",
          "name": "stderr",
          "text": [
            "Downloading...\n",
            "From: https://drive.google.com/uc?id=1bRB4-KxQplJryJvqyEa8Ixkf_BVm4Nn6\n",
            "To: /content/pi-GAN/CelebA.zip\n",
            "28.5MB [00:00, 169MB/s] \n"
          ]
        },
        {
          "output_type": "stream",
          "name": "stdout",
          "text": [
            "Archive:  CelebA.zip\n",
            "   creating: CelebA/\n",
            "  inflating: CelebA/generator.pth    \n",
            "   creating: __MACOSX/\n",
            "   creating: __MACOSX/CelebA/\n",
            "  inflating: __MACOSX/CelebA/._generator.pth  \n",
            "  inflating: CelebA/ema2.pth         \n",
            "  inflating: __MACOSX/CelebA/._ema2.pth  \n",
            "  inflating: CelebA/ema.pth          \n",
            "  inflating: __MACOSX/CelebA/._ema.pth  \n"
          ]
        },
        {
          "output_type": "stream",
          "name": "stderr",
          "text": [
            "Downloading...\n",
            "From: https://drive.google.com/uc?id=1WBA-WI8DA7FqXn7__0TdBO0eO08C_EhG\n",
            "To: /content/pi-GAN/Cats.zip\n",
            "28.4MB [00:00, 83.9MB/s]\n"
          ]
        },
        {
          "output_type": "stream",
          "name": "stdout",
          "text": [
            "Archive:  Cats.zip\n",
            "   creating: Cats/\n",
            "  inflating: Cats/generator.pth      \n",
            "   creating: __MACOSX/Cats/\n",
            "  inflating: __MACOSX/Cats/._generator.pth  \n",
            "  inflating: Cats/.DS_Store          \n",
            "  inflating: __MACOSX/Cats/._.DS_Store  \n",
            "  inflating: Cats/ema2.pth           \n",
            "  inflating: __MACOSX/Cats/._ema2.pth  \n",
            "  inflating: Cats/ema.pth            \n",
            "  inflating: __MACOSX/Cats/._ema.pth  \n",
            "  inflating: __MACOSX/._Cats         \n"
          ]
        },
        {
          "output_type": "stream",
          "name": "stderr",
          "text": [
            "Downloading...\n",
            "From: https://drive.google.com/uc?id=1n4eXijbSD48oJVAbAV4hgdcTbT3Yv4xO\n",
            "To: /content/pi-GAN/CARLA.zip\n",
            "28.4MB [00:00, 104MB/s] \n"
          ]
        },
        {
          "output_type": "stream",
          "name": "stdout",
          "text": [
            "Archive:  CARLA.zip\n",
            "   creating: CARLA/\n",
            "  inflating: CARLA/generator.pth     \n",
            "   creating: __MACOSX/CARLA/\n",
            "  inflating: __MACOSX/CARLA/._generator.pth  \n",
            "  inflating: CARLA/ema2.pth          \n",
            "  inflating: __MACOSX/CARLA/._ema2.pth  \n",
            "  inflating: CARLA/ema.pth           \n",
            "  inflating: __MACOSX/CARLA/._ema.pth  \n"
          ]
        }
      ]
    },
    {
      "cell_type": "markdown",
      "metadata": {
        "id": "OmRMbVFkDlsh"
      },
      "source": [
        "### コード本体"
      ]
    },
    {
      "cell_type": "code",
      "metadata": {
        "colab": {
          "base_uri": "https://localhost:8080/"
        },
        "id": "UHWSZbgh2vbG",
        "outputId": "d0769906-8a04-4278-cbdf-4f9c60cee967"
      },
      "source": [
        "# マルチビュー画像を作成（CelebA）\n",
        "! python render_multiview_images.py CelebA/generator.pth --curriculum CelebA --seeds 0 1 2 3"
      ],
      "execution_count": 2,
      "outputs": [
        {
          "output_type": "stream",
          "name": "stdout",
          "text": [
            "100% 4/4 [00:22<00:00,  5.57s/it]\n"
          ]
        }
      ]
    },
    {
      "cell_type": "code",
      "metadata": {
        "colab": {
          "base_uri": "https://localhost:8080/"
        },
        "id": "RDw9yiWozBxe",
        "outputId": "ee7b1500-7ec2-45db-c83c-82794c27e8ae"
      },
      "source": [
        "# ビデオを作成（CelebA）\n",
        "! python render_video.py CelebA/generator.pth --curriculum CelebA --seeds 0 1 2 3"
      ],
      "execution_count": 3,
      "outputs": [
        {
          "output_type": "stream",
          "name": "stdout",
          "text": [
            "100% 36/36 [00:38<00:00,  1.08s/it]\n",
            "100% 36/36 [00:38<00:00,  1.08s/it]\n",
            "100% 36/36 [00:38<00:00,  1.08s/it]\n",
            "100% 36/36 [00:38<00:00,  1.08s/it]\n"
          ]
        }
      ]
    },
    {
      "cell_type": "code",
      "metadata": {
        "colab": {
          "base_uri": "https://localhost:8080/"
        },
        "id": "9VjHCj2kLc8-",
        "outputId": "ea95919f-dc1d-43cd-dc26-08b14ca13142"
      },
      "source": [
        "# 補間ビデオを作成（CelebA）\n",
        "! python render_video_interpolation.py CelebA/generator.pth --curriculum CelebA --seeds 5 0 4 16 2 19 5"
      ],
      "execution_count": 11,
      "outputs": [
        {
          "output_type": "stream",
          "name": "stdout",
          "text": [
            "['5', '0', '4', '16', '2', '19', '5']\n",
            "100% 36/36 [00:38<00:00,  1.08s/it]\n",
            "100% 36/36 [00:38<00:00,  1.08s/it]\n",
            "100% 36/36 [00:38<00:00,  1.08s/it]\n",
            "100% 36/36 [00:38<00:00,  1.08s/it]\n",
            "100% 36/36 [00:38<00:00,  1.08s/it]\n",
            "100% 36/36 [00:38<00:00,  1.08s/it]\n",
            "100% 36/36 [00:38<00:00,  1.08s/it]\n"
          ]
        }
      ]
    },
    {
      "cell_type": "code",
      "metadata": {
        "colab": {
          "base_uri": "https://localhost:8080/"
        },
        "id": "uztOZnBNLdCb",
        "outputId": "5adfb809-5b18-4f7f-a383-72f411b238e1"
      },
      "source": [
        "# 補間ビデオを作成（Cats）\n",
        "! python render_video_interpolation.py Cats/generator.pth --curriculum CelebA --seeds 0 4 8 5 9 1 0"
      ],
      "execution_count": 13,
      "outputs": [
        {
          "output_type": "stream",
          "name": "stdout",
          "text": [
            "['0', '4', '8', '5', '9', '1', '0']\n",
            "100% 36/36 [00:38<00:00,  1.08s/it]\n",
            "100% 36/36 [00:38<00:00,  1.08s/it]\n",
            "100% 36/36 [00:38<00:00,  1.08s/it]\n",
            "100% 36/36 [00:38<00:00,  1.08s/it]\n",
            "100% 36/36 [00:38<00:00,  1.08s/it]\n",
            "100% 36/36 [00:38<00:00,  1.08s/it]\n",
            "100% 36/36 [00:38<00:00,  1.08s/it]\n"
          ]
        }
      ]
    },
    {
      "cell_type": "code",
      "metadata": {
        "colab": {
          "base_uri": "https://localhost:8080/"
        },
        "id": "pSF1l25fZEqN",
        "outputId": "0a826fa8-bfb6-49ec-b8e6-97fdf2a6be06"
      },
      "source": [
        "# 補間ビデオを作成（CARLA）\n",
        "! python render_video_interpolation.py CARLA/generator.pth --curriculum CARLA --seeds 1 2 3 5 6 8 1"
      ],
      "execution_count": 16,
      "outputs": [
        {
          "output_type": "stream",
          "name": "stdout",
          "text": [
            "['1', '2', '3', '5', '6', '8', '1']\n",
            "100% 36/36 [02:34<00:00,  4.30s/it]\n",
            "100% 36/36 [02:34<00:00,  4.30s/it]\n",
            "100% 36/36 [02:34<00:00,  4.30s/it]\n",
            "100% 36/36 [02:34<00:00,  4.30s/it]\n",
            "100% 36/36 [02:34<00:00,  4.30s/it]\n",
            "100% 36/36 [02:34<00:00,  4.30s/it]\n",
            "100% 36/36 [02:34<00:00,  4.30s/it]\n"
          ]
        }
      ]
    }
  ]
}