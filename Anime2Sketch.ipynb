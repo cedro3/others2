{
  "nbformat": 4,
  "nbformat_minor": 0,
  "metadata": {
    "colab": {
      "name": "Anime2Sketch",
      "provenance": [],
      "mount_file_id": "1CfgPlkqG5OaUAo_VP86HSlyxpeCApGFQ",
      "authorship_tag": "ABX9TyOKtTnEnR9JD9MsuD9A1Aeh",
      "include_colab_link": true
    },
    "kernelspec": {
      "name": "python3",
      "display_name": "Python 3"
    },
    "language_info": {
      "name": "python"
    },
    "accelerator": "GPU"
  },
  "cells": [
    {
      "cell_type": "markdown",
      "metadata": {
        "id": "view-in-github",
        "colab_type": "text"
      },
      "source": [
        "<a href=\"https://colab.research.google.com/github/cedro3/others2/blob/main/Anime2Sketch.ipynb\" target=\"_parent\"><img src=\"https://colab.research.google.com/assets/colab-badge.svg\" alt=\"Open In Colab\"/></a>"
      ]
    },
    {
      "cell_type": "markdown",
      "metadata": {
        "id": "IfprL6lWvETv"
      },
      "source": [
        "##セットアップ"
      ]
    },
    {
      "cell_type": "code",
      "metadata": {
        "id": "hjgdSLDZaIMq"
      },
      "source": [
        "# githubからコードを取得\n",
        "! git  clone https://github.com/Mukosame/Anime2Sketch.git\n",
        "%cd Anime2Sketch\n",
        "\n",
        "# weights フォルダー削除\n",
        "import os\n",
        "import shutil\n",
        "if os.path.isdir('weights'):\n",
        "    shutil.rmtree('weights') \n",
        "\n",
        "# 学習済みパラメータとサンプル動画のダウンロード\n",
        "import gdown\n",
        "gdown.download('https://drive.google.com/u/1/uc?id=1wIC4VXRBRgFaPzL2v8RURCCAYu2J7zsH', 'weights.zip', quiet=False)\n",
        "gdown.download('https://drive.google.com/u/1/uc?id=1mTszJ5AcYW15x-AFsxdRZw-ARzypwYDK', 'movie.zip', quiet=False)\n",
        "! unzip weights.zip\n",
        "! unzip movie.zip"
      ],
      "execution_count": null,
      "outputs": []
    },
    {
      "cell_type": "markdown",
      "metadata": {
        "id": "yNKbdngFvNS6"
      },
      "source": [
        "##アニメ＋スケッチ動画を作成"
      ]
    },
    {
      "cell_type": "markdown",
      "metadata": {
        "id": "9y40j41evcKA"
      },
      "source": [
        "**アニメ動画からアニメ画とスケッチ画を作成**"
      ]
    },
    {
      "cell_type": "code",
      "metadata": {
        "id": "pDxhgamueZMR"
      },
      "source": [
        "import os\n",
        "import shutil\n",
        "import cv2\n",
        " \n",
        "# imagesフォルダーリセット\n",
        "if os.path.isdir('images'):\n",
        "    shutil.rmtree('images') \n",
        "os.makedirs('images', exist_ok=True)\n",
        "\n",
        "# outフォルダーリセット\n",
        "if os.path.isdir('out'):\n",
        "    shutil.rmtree('out') \n",
        "os.makedirs('out', exist_ok=True)\n",
        "\n",
        "# ビデオから静止画を切り出す関数 \n",
        "def video_2_images(video_file= './movie/movie03.mp4', \n",
        "                   image_dir='./images/', \n",
        "                   image_file='%s.png'):\n",
        " \n",
        "    # Initial setting\n",
        "    i = 0\n",
        "    interval = 3\n",
        "    length = 300 # リミッター\n",
        "    \n",
        "    cap = cv2.VideoCapture(video_file)\n",
        "    while(cap.isOpened()):\n",
        "        flag, frame = cap.read()  \n",
        "        if flag == False:  \n",
        "                break\n",
        "        if i == length*interval:\n",
        "                break\n",
        "        if i % interval == 0:    \n",
        "           cv2.imwrite(image_dir+image_file % str(int(i/interval)).zfill(6), frame)\n",
        "        i += 1 \n",
        "    cap.release()  \n",
        "\n",
        "# アニメ動画からアニメ画を作成 \n",
        "video_2_images()\n",
        "\n",
        "# アニメ画をスケッチ画に変換\n",
        "! python3 test.py --dataroot images --load_size 512 --output_dir out"
      ],
      "execution_count": null,
      "outputs": []
    },
    {
      "cell_type": "markdown",
      "metadata": {
        "id": "JhpJ9SuYltUk"
      },
      "source": [
        "**アニメ画とスケッチ画から動画を作成**"
      ]
    },
    {
      "cell_type": "code",
      "metadata": {
        "id": "9xwuSQvUcRlN"
      },
      "source": [
        "# output1.mp4 〜 output3.mp4 をリセット\n",
        "import os\n",
        "if os.path.exists('./output1.mp4'):\n",
        "   os.remove('./output1.mp4')\n",
        "if os.path.exists('./output2.mp4'):\n",
        "   os.remove('./output2.mp4')\n",
        "if os.path.exists('./output3.mp4'):\n",
        "   os.remove('./output3.mp4')\n",
        "\n",
        "# アニメ画を動画に変換\n",
        "! ffmpeg -r 10 -i images/%6d.png\\\n",
        "               -vcodec libx264 -pix_fmt yuv420p output1.mp4\n",
        "\n",
        "# スケッチ画を動画に変換\n",
        "! ffmpeg -r 10 -i out/%6d.png\\\n",
        "               -vcodec libx264 -pix_fmt yuv420p output2.mp4\n",
        "\n",
        "# アニメ動画とスケッチ動画を連結\n",
        "! ffmpeg -i output1.mp4 -i output2.mp4 -filter_complex \"hstack\" output3.mp4"
      ],
      "execution_count": null,
      "outputs": []
    },
    {
      "cell_type": "markdown",
      "metadata": {
        "id": "4n4ROSgFllZV"
      },
      "source": [
        "**動画再生**"
      ]
    },
    {
      "cell_type": "code",
      "metadata": {
        "id": "dvP0hYWnh762"
      },
      "source": [
        "# mp4動画の再生\n",
        "from IPython.display import HTML\n",
        "from base64 import b64encode\n",
        "\n",
        "mp4 = open('./output3.mp4', 'rb').read()\n",
        "data_url = 'data:video/mp4;base64,' + b64encode(mp4).decode()\n",
        "HTML(f\"\"\"\n",
        "<video width=\"100%\" height=\"100%\" controls>\n",
        "      <source src=\"{data_url}\" type=\"video/mp4\">\n",
        "</video>\"\"\")"
      ],
      "execution_count": null,
      "outputs": []
    }
  ]
}