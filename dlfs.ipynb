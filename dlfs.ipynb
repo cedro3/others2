{
  "nbformat": 4,
  "nbformat_minor": 0,
  "metadata": {
    "colab": {
      "name": "dlfs",
      "private_outputs": true,
      "provenance": [],
      "collapsed_sections": [],
      "include_colab_link": true
    },
    "kernelspec": {
      "name": "python3",
      "display_name": "Python 3"
    },
    "language_info": {
      "name": "python"
    },
    "accelerator": "GPU"
  },
  "cells": [
    {
      "cell_type": "markdown",
      "metadata": {
        "id": "view-in-github",
        "colab_type": "text"
      },
      "source": [
        "<a href=\"https://colab.research.google.com/github/cedro3/others2/blob/main/dlfs.ipynb\" target=\"_parent\"><img src=\"https://colab.research.google.com/assets/colab-badge.svg\" alt=\"Open In Colab\"/></a>"
      ]
    },
    {
      "cell_type": "markdown",
      "metadata": {
        "id": "aqo9-hddTZrh"
      },
      "source": [
        "# セットアップ\n"
      ]
    },
    {
      "cell_type": "code",
      "metadata": {
        "id": "IOSPzfVRTspe"
      },
      "source": [
        "# githubのコードをコピー\n",
        "!git clone https://github.com/SenHe/DLFS.git\n",
        "%cd DLFS/\n",
        "\n",
        "# ライブラリーのインストール\n",
        "!pip3 install -r requirements.txt\n",
        "\n",
        "# 補助モデルのダウンロード\n",
        "!python download_models.py\n",
        "\n",
        "# 学習済みモデルのダウンロード\n",
        "! pip install --upgrade gdown\n",
        "import gdown\n",
        "!mkdir checkpoints\n",
        "%cd checkpoints\n",
        "\n",
        "gdown.download('https://drive.google.com/u/0/uc?id=1pB4mufFtzbJSxxv_2iFrBPD3vp_Ef-n3&export=download', 'males_model.zip', quiet=False)\n",
        "!unzip males_model.zip\n",
        "gdown.download('https://drive.google.com/u/0/uc?id=1z0s_j3Khs7-352bMvz8RSnrR53vvdbiI&export=download', 'females_model.zip', quiet=False)\n",
        "!unzip females_model.zip\n",
        "%cd ..\n",
        "\n",
        "# サンプル画像ダウンロード\n",
        "gdown.download('https://drive.google.com/uc?id=1ruwDizjnzd3scR1QvpXGWLXywY8_W0yj', './images.zip', quiet=False)\n",
        "!unzip images.zip"
      ],
      "execution_count": null,
      "outputs": []
    },
    {
      "cell_type": "markdown",
      "metadata": {
        "id": "dHIRttMXIjWm"
      },
      "source": [
        "# インポート＆初期設定"
      ]
    },
    {
      "cell_type": "code",
      "metadata": {
        "id": "SqxbhoRrUU-m"
      },
      "source": [
        "# インポート＆初期設定\n",
        "import os\n",
        "from collections import OrderedDict\n",
        "from options.test_options import TestOptions\n",
        "from data.data_loader import CreateDataLoader\n",
        "from models_distan.models import create_model\n",
        "import util.util as util\n",
        "from util.visualizer import Visualizer\n",
        "\n",
        "opt = TestOptions().parse(save=False)\n",
        "opt.display_id = 0 # do not launch visdom\n",
        "opt.nThreads = 1   # test code only supports nThreads = 1\n",
        "opt.batchSize = 1  # test code only supports batchSize = 1\n",
        "opt.serial_batches = True  # no shuffle\n",
        "opt.no_flip = True  # no flip\n",
        "opt.in_the_wild = True # This triggers preprocessing of in the wild images in the dataloader\n",
        "opt.traverse = True # This tells the model to traverse the latent space between anchor classes\n",
        "opt.interp_step = 0.05 # this controls the number of images to interpolate between anchor classes\n",
        "\n",
        "data_loader = CreateDataLoader(opt)\n",
        "dataset = data_loader.load_data()\n",
        "visualizer = Visualizer(opt)\n"
      ],
      "execution_count": null,
      "outputs": []
    },
    {
      "cell_type": "markdown",
      "metadata": {
        "id": "TJmA52UUX5oM"
      },
      "source": [
        "# 年齢による顔アニメーション"
      ]
    },
    {
      "cell_type": "code",
      "metadata": {
        "id": "-Eapax9tUliy"
      },
      "source": [
        "# 年齢による顔アニメーション作成\n",
        "opt.name = 'females_model' # females_model'あるいは'males_model'を選択する\n",
        "model = create_model(opt)\n",
        "model.eval()\n",
        "\n",
        "img_dir ='images'  # フォルダー指定\n",
        "img_file ='04.jpg'  # ファイル名\n",
        "img_path = img_dir+'/'+img_file\n",
        "data = dataset.dataset.get_item_from_path(img_path)\n",
        "visuals = model.inference(data)\n",
        "\n",
        "os.makedirs('results', exist_ok=True)\n",
        "out_path ='results/'+img_file[:-4]+'.mp4'\n",
        "visualizer.make_video(visuals, out_path)\n",
        "\n",
        "# コーデック変換\n",
        "import os\n",
        "import shutil\n",
        "#shutil.copy('./results/'+img_path[:-4]+'.mp4', './results/out.mp4')\n",
        "shutil.copy(out_path, './results/out.mp4')\n",
        "if os.path.exists('./output.mp4'):\n",
        "   os.remove('./output.mp4')\n",
        "! ffmpeg -i ./results/out.mp4 -vcodec h264 -pix_fmt yuv420p output.mp4"
      ],
      "execution_count": null,
      "outputs": []
    },
    {
      "cell_type": "code",
      "metadata": {
        "id": "GPiFfIJbXgJa"
      },
      "source": [
        "# mp4動画の再生\n",
        "from IPython.display import HTML\n",
        "from base64 import b64encode\n",
        "\n",
        "mp4 = open('./output.mp4', 'rb').read()\n",
        "data_url = 'data:video/mp4;base64,' + b64encode(mp4).decode()\n",
        "HTML(f\"\"\"\n",
        "<video width=\"50%\" height=\"50%\" controls>\n",
        "      <source src=\"{data_url}\" type=\"video/mp4\">\n",
        "</video>\"\"\")"
      ],
      "execution_count": null,
      "outputs": []
    }
  ]
}
