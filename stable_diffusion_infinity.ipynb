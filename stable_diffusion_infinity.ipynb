{
  "nbformat": 4,
  "nbformat_minor": 0,
  "metadata": {
    "colab": {
      "provenance": [],
      "collapsed_sections": [],
      "include_colab_link": true
    },
    "kernelspec": {
      "name": "python3",
      "display_name": "Python 3"
    },
    "language_info": {
      "name": "python"
    },
    "accelerator": "GPU"
  },
  "cells": [
    {
      "cell_type": "markdown",
      "metadata": {
        "id": "view-in-github",
        "colab_type": "text"
      },
      "source": [
        "<a href=\"https://colab.research.google.com/github/cedro3/others2/blob/main/stable_diffusion_infinity.ipynb\" target=\"_parent\"><img src=\"https://colab.research.google.com/assets/colab-badge.svg\" alt=\"Open In Colab\"/></a>"
      ]
    },
    {
      "cell_type": "code",
      "execution_count": null,
      "metadata": {
        "id": "JvbfNNSJDTW5"
      },
      "outputs": [],
      "source": [
        "#@title #**set up**\n",
        "\n",
        "# install library\n",
        "!nvidia-smi -L\n",
        "!pip install -qq -U diffusers==0.6.0 transformers ftfy\n",
        "!pip install -q gradio==3.6\n",
        "!pip install -q fpie timm\n",
        "\n",
        "# git clone\n",
        "!git clone --recurse-submodules https://github.com/lkwq007/stablediffusion-infinity\n",
        "%cd stablediffusion-infinity\n",
        "!cp -r PyPatchMatch/csrc .\n",
        "!cp PyPatchMatch/Makefile .\n",
        "!cp PyPatchMatch/travis.sh .\n",
        "!cp PyPatchMatch/patch_match.py . \n",
        "\n",
        "# program start\n",
        "!python app.py --share"
      ]
    }
  ]
}