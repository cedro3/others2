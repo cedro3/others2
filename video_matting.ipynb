{
  "nbformat": 4,
  "nbformat_minor": 0,
  "metadata": {
    "colab": {
      "name": "video_matting",
      "private_outputs": true,
      "provenance": [],
      "collapsed_sections": [],
      "include_colab_link": true
    },
    "kernelspec": {
      "name": "python3",
      "display_name": "Python 3"
    },
    "language_info": {
      "name": "python"
    },
    "accelerator": "GPU"
  },
  "cells": [
    {
      "cell_type": "markdown",
      "metadata": {
        "id": "view-in-github",
        "colab_type": "text"
      },
      "source": [
        "<a href=\"https://colab.research.google.com/github/cedro3/others2/blob/main/video_matting.ipynb\" target=\"_parent\"><img src=\"https://colab.research.google.com/assets/colab-badge.svg\" alt=\"Open In Colab\"/></a>"
      ]
    },
    {
      "cell_type": "markdown",
      "metadata": {
        "id": "hJnxd6hdDymV"
      },
      "source": [
        "# Robust High-Resolution Video Matting with Temporal Guidance.\n",
        "\n",
        "![Teaser](https://raw.githubusercontent.com/PeterL1n/RobustVideoMatting/master/documentation/image/teaser.gif)\n",
        "\n",
        "[Project Site](https://peterl1n.github.io/RobustVideoMatting) | [GitHub](https://github.com/PeterL1n/RobustVideoMatting) | [Paper](https://arxiv.org/abs/2108.11515)\n",
        "\n",
        "\n",
        "## セットアップ（３分程度かかります）"
      ]
    },
    {
      "cell_type": "code",
      "metadata": {
        "id": "Q9Lpmpm4IuII"
      },
      "source": [
        "# pytorchバージョン変更\n",
        "! pip install torch==1.8.0 torchvision==0.9.0\n",
        "\n",
        "# ライブラリー・インストール\n",
        "! pip install --quiet av pims\n",
        "\n",
        "# モデル構築\n",
        "import torch\n",
        "model = torch.hub.load(\"PeterL1n/RobustVideoMatting\", \"mobilenetv3\").cuda() # or \"resnet50\"\n",
        "convert_video = torch.hub.load(\"PeterL1n/RobustVideoMatting\", \"converter\")"
      ],
      "execution_count": null,
      "outputs": []
    },
    {
      "cell_type": "markdown",
      "metadata": {
        "id": "9qD01TEQEg1p"
      },
      "source": [
        "### オプション 1: 自分の動画のアップロード\n",
        "\n",
        "セルを実行して自分のPCにあるファイルを選択 (mp4ファイルのみ)\\\n",
        "＊アップロードしたファイルは自動的にinput.mp4に書き換えられます"
      ]
    },
    {
      "cell_type": "code",
      "metadata": {
        "id": "4cGycwzuEgF_"
      },
      "source": [
        "import os\n",
        "from google.colab import files\n",
        "\n",
        "uploaded = files.upload()           # Use colab upload dialog.\n",
        "uploaded = list(uploaded.keys())    # Get uploaded filenames.\n",
        "assert len(uploaded) == 1           # Make sure only uploaded one file.\n",
        "os.rename(uploaded[0], 'input.mp4') # Rename file to \"input.mp4\"."
      ],
      "execution_count": null,
      "outputs": []
    },
    {
      "cell_type": "markdown",
      "metadata": {
        "id": "0SZzWWvVIpts"
      },
      "source": [
        "### オプション 2: サンプルビデオを使用（自分のビデオを使う場合はパス）\n",
        "\n",
        "セルを実行してサンプルビデオをダウンロードする\\\n",
        "＊ダウンロードしたファイルは自動的にinput.mp4に書き換えられます"
      ]
    },
    {
      "cell_type": "code",
      "metadata": {
        "id": "VLonjeynFONz"
      },
      "source": [
        "import gdown\n",
        "gdown.download('https://drive.google.com/uc?id=1LASEXzU015e30y4YQqv6mq4KId07mVof', './input.mp4', quiet=False)"
      ],
      "execution_count": null,
      "outputs": []
    },
    {
      "cell_type": "markdown",
      "metadata": {
        "id": "Jy5AetvnHYyO"
      },
      "source": [
        "### 変換の実行"
      ]
    },
    {
      "cell_type": "code",
      "metadata": {
        "id": "XQS1RNu3IEl2"
      },
      "source": [
        "convert_video(\n",
        "    model,                           # The loaded model, can be on any device (cpu or cuda).\n",
        "    input_source='input.mp4',        # A video file or an image sequence directory.\n",
        "    downsample_ratio=None,           # [Optional] If None, make downsampled max size be 512px.\n",
        "    output_type='video',             # Choose \"video\" or \"png_sequence\"\n",
        "    output_composition='com.mp4',    # File path if video; directory path if png sequence.\n",
        "    output_alpha=\"pha.mp4\",          # [Optional] Output the raw alpha prediction.\n",
        "    output_foreground=\"fgr.mp4\",     # [Optional] Output the raw foreground prediction.\n",
        "    output_video_mbps=4,             # Output video mbps. Not needed for png sequence.\n",
        "    seq_chunk=12,                    # Process n frames at once for better parallelism.\n",
        "    num_workers=1,                   # Only for image sequence input. Reader threads.\n",
        "    progress=True                    # Print conversion progress.\n",
        ")"
      ],
      "execution_count": null,
      "outputs": []
    },
    {
      "cell_type": "markdown",
      "metadata": {
        "id": "s3p8jD1qntso"
      },
      "source": [
        "### 動画の再生"
      ]
    },
    {
      "cell_type": "code",
      "metadata": {
        "id": "0hSiwEoNnxn3"
      },
      "source": [
        "# mp4動画の再生\n",
        "from IPython.display import HTML\n",
        "from base64 import b64encode\n",
        "\n",
        "mp4 = open('./com.mp4', 'rb').read()\n",
        "data_url = 'data:video/mp4;base64,' + b64encode(mp4).decode()\n",
        "HTML(f\"\"\"\n",
        "<video width=\"70%\" height=\"70%\" controls>\n",
        "      <source src=\"{data_url}\" type=\"video/mp4\">\n",
        "</video>\"\"\")"
      ],
      "execution_count": null,
      "outputs": []
    },
    {
      "cell_type": "markdown",
      "metadata": {
        "id": "-iJwFwqUI9Az"
      },
      "source": [
        "### 実行結果\n",
        "\n",
        "変換を実行すると下記のファイルが作成されます。必要に応じてダウンロードして下さい。\n",
        "\n",
        "* `com.mp4`: 【背景をグリーンスクリーン化した動画】\n",
        "* `pha.mp4`: αチャンネルを操作した動画.\n",
        "* `fgr.mp4`: マスク動画"
      ]
    }
  ]
}