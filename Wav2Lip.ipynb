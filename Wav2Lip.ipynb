{
  "cells": [
    {
      "cell_type": "markdown",
      "metadata": {
        "id": "view-in-github",
        "colab_type": "text"
      },
      "source": [
        "<a href=\"https://colab.research.google.com/github/cedro3/others2/blob/main/Wav2Lip.ipynb\" target=\"_parent\"><img src=\"https://colab.research.google.com/assets/colab-badge.svg\" alt=\"Open In Colab\"/></a>"
      ]
    },
    {
      "cell_type": "code",
      "execution_count": null,
      "metadata": {
        "id": "L1SFU1qm8KKQ"
      },
      "outputs": [],
      "source": [
        "#@title セットアップ\n",
        "# ml4aインストール\n",
        "!pip install tensorflow==1.15.0\n",
        "!pip install imageio==2.4.1\n",
        "!pip3 install --quiet ml4a\n",
        "\n",
        "# ライブラリ・インポート\n",
        "from ml4a import audio\n",
        "from ml4a import image\n",
        "from ml4a.models import wav2lip\n",
        "\n",
        "# サンプルデータ・ダウンロード\n",
        "! pip install --upgrade gdown\n",
        "import gdown\n",
        "gdown.download('https://drive.google.com/uc?id=1JxpWvO7ssUbO3O_4Wvqf-tTa23GiP-1Y', './data.zip', quiet=False)\n",
        "! unzip data.zip\n",
        "\n",
        "# サンプリング・レート取得関数\n",
        "def get_rate(file_path):\n",
        "    import wave\n",
        "    wf = wave.open(file_path, \"r\")\n",
        "    fs = wf.getframerate()\n",
        "    return fs"
      ]
    },
    {
      "cell_type": "code",
      "source": [
        "#@title wav2lip変換\n",
        "image = './image/03.jpg' #@param {type:\"string\"}\n",
        "audio ='./audio/coffe.wav' #@param {type:\"string\"}\n",
        "rate = get_rate(audio)\n",
        "\n",
        "wav2lip.run(image, \n",
        "            audio,\n",
        "            sampling_rate = rate,\n",
        "            output_video = 'output.mp4', \n",
        "            pads = [0, 10, 0, 0],\n",
        "            resize_factor = 2, \n",
        "            crop = None, \n",
        "            box = None)"
      ],
      "metadata": {
        "id": "El9tQ1V_Ux96"
      },
      "execution_count": null,
      "outputs": []
    },
    {
      "cell_type": "code",
      "source": [
        "#@title 動画の再生\n",
        "from IPython.display import HTML\n",
        "from base64 import b64encode\n",
        "\n",
        "mp4 = open('output.mp4', 'rb').read()\n",
        "data_url = 'data:video/mp4;base64,' + b64encode(mp4).decode()\n",
        "HTML(f\"\"\"\n",
        "<video width=\"70%\" height=\"70%\" controls>\n",
        "      <source src=\"{data_url}\" type=\"video/mp4\">\n",
        "</video>\"\"\")"
      ],
      "metadata": {
        "id": "iTt7jMPI-HYg"
      },
      "execution_count": null,
      "outputs": []
    }
  ],
  "metadata": {
    "kernelspec": {
      "display_name": "Python 3",
      "language": "python",
      "name": "python3"
    },
    "language_info": {
      "codemirror_mode": {
        "name": "ipython",
        "version": 3
      },
      "file_extension": ".py",
      "mimetype": "text/x-python",
      "name": "python",
      "nbconvert_exporter": "python",
      "pygments_lexer": "ipython3",
      "version": "3.6.9"
    },
    "colab": {
      "name": "Wav2Lip",
      "provenance": [],
      "include_colab_link": true
    },
    "accelerator": "GPU"
  },
  "nbformat": 4,
  "nbformat_minor": 0
}
