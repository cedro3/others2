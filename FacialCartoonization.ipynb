{
  "nbformat": 4,
  "nbformat_minor": 0,
  "metadata": {
    "colab": {
      "name": "FacialCartoonization",
      "provenance": [],
      "authorship_tag": "ABX9TyPjJ0tEKiYXYvWW6TWb89vZ",
      "include_colab_link": true
    },
    "kernelspec": {
      "name": "python3",
      "display_name": "Python 3"
    },
    "accelerator": "GPU"
  },
  "cells": [
    {
      "cell_type": "markdown",
      "metadata": {
        "id": "view-in-github",
        "colab_type": "text"
      },
      "source": [
        "<a href=\"https://colab.research.google.com/github/cedro3/others2/blob/main/FacialCartoonization.ipynb\" target=\"_parent\"><img src=\"https://colab.research.google.com/assets/colab-badge.svg\" alt=\"Open In Colab\"/></a>"
      ]
    },
    {
      "cell_type": "markdown",
      "metadata": {
        "id": "IEhLcJxD7AyK"
      },
      "source": [
        "# セットアップ"
      ]
    },
    {
      "cell_type": "code",
      "metadata": {
        "id": "YDt_YpcLpENX"
      },
      "source": [
        "# githubのコードを取得\n",
        "!git clone https://github.com/SystemErrorWang/FacialCartoonization.git\n",
        "%cd FacialCartoonization/"
      ],
      "execution_count": null,
      "outputs": []
    },
    {
      "cell_type": "code",
      "metadata": {
        "id": "cIhcKKbiE30w"
      },
      "source": [
        "# フォルダー内表示関数定義\n",
        "import matplotlib.pyplot as plt\n",
        "from PIL import Image\n",
        "import os\n",
        "import shutil\n",
        "import numpy as np\n",
        "%matplotlib inline\n",
        "\n",
        "def display_pic(folder):\n",
        "    fig = plt.figure(figsize=(30, 40))\n",
        "    files = os.listdir(folder)\n",
        "    files.sort()\n",
        "    for i, file in enumerate(files):\n",
        "        if file=='.ipynb_checkpoints':\n",
        "           continue\n",
        "        if file=='.DS_Store':\n",
        "           continue\n",
        "        img = Image.open(folder+'/'+file)    \n",
        "        images = np.asarray(img)\n",
        "        ax = fig.add_subplot(10, 10, i+1, xticks=[], yticks=[])\n",
        "        image_plt = np.array(images)\n",
        "        ax.imshow(image_plt)\n",
        "        ax.set_xlabel(file, fontsize=15)               \n",
        "    plt.show()\n",
        "    plt.close()"
      ],
      "execution_count": null,
      "outputs": []
    },
    {
      "cell_type": "markdown",
      "metadata": {
        "id": "W0da3qE_B6Fv"
      },
      "source": [
        "# 静止画をアニメに変換\n"
      ]
    },
    {
      "cell_type": "code",
      "metadata": {
        "id": "MuWx803FDv0d"
      },
      "source": [
        "# サンプル画像表示\n",
        "display_pic('images')"
      ],
      "execution_count": null,
      "outputs": []
    },
    {
      "cell_type": "code",
      "metadata": {
        "id": "d1IBNr9ACIdP"
      },
      "source": [
        "# result フォルダーリセット\n",
        "if os.path.isdir('results'):\n",
        "    shutil.rmtree('results')\n",
        "\n",
        "# アニメ化の実行\n",
        "!python inference.py\n",
        "\n",
        "# 結果表示\n",
        "display_pic('results')"
      ],
      "execution_count": null,
      "outputs": []
    },
    {
      "cell_type": "markdown",
      "metadata": {
        "id": "pSzdrowsMJEz"
      },
      "source": [
        "・results フォルダー内のファイル名を00000.jpgからの連番にし、動画に変換します"
      ]
    },
    {
      "cell_type": "code",
      "metadata": {
        "id": "XHo99LXihRkC"
      },
      "source": [
        "# ファイル名を00000.jpgからの連番に変更\n",
        "import glob\n",
        "files = glob.glob('./results/*.jpg')\n",
        "files.sort()\n",
        "\n",
        "for i, file in enumerate(files):\n",
        "    img = Image.open(file)\n",
        "    img.save('./results/'+str(i).zfill(5)+'.jpg')\n",
        "    os.remove(file)\n",
        "\n",
        "# 実写＋アニメ顔をmp4に変換\n",
        "!ffmpeg -r 1 -i results/%05d.jpg -vcodec libx264 -pix_fmt yuv420p out.mp4"
      ],
      "execution_count": null,
      "outputs": []
    },
    {
      "cell_type": "code",
      "metadata": {
        "id": "QGVxWs2AMH0P"
      },
      "source": [
        "# mp4動画の再生\n",
        "from IPython.display import HTML\n",
        "from base64 import b64encode\n",
        "\n",
        "mp4 = open('./out.mp4', 'rb').read()\n",
        "data_url = 'data:video/mp4;base64,' + b64encode(mp4).decode()\n",
        "HTML(f\"\"\"\n",
        "<video width=\"70%\" height=\"70%\" controls>\n",
        "      <source src=\"{data_url}\" type=\"video/mp4\">\n",
        "</video>\"\"\")"
      ],
      "execution_count": null,
      "outputs": []
    },
    {
      "cell_type": "markdown",
      "metadata": {
        "id": "Iz0qtpKqvH4b"
      },
      "source": [
        "# mp4動画をアニメに変換\n",
        "・カレントディレクトリにmp4動画を保存してから実行して下さい。\\\n",
        "・動画は正方形の形状にして下さい。\\\n",
        "・11行目のビデオ指定を保存したファイル名に変更して下さい。"
      ]
    },
    {
      "cell_type": "code",
      "metadata": {
        "id": "Mme3Ug9wvF2x"
      },
      "source": [
        "# ビデオを静止画に変換\n",
        "import os\n",
        "import shutil\n",
        "import cv2\n",
        "\n",
        "# imagesフォルダーリセット\n",
        "if os.path.isdir('images'):\n",
        "    shutil.rmtree('images')\n",
        "os.makedirs('images', exist_ok=True)\n",
        " \n",
        "def video_2_images(video_file= './sample.mp4',   # ビデオ指定\n",
        "                   image_dir='./images/', \n",
        "                   image_file='%s.jpg'):  \n",
        " \n",
        "    # Initial setting\n",
        "    i = 0\n",
        "    interval = 3\n",
        "    length = 600  # 最大フレーム数\n",
        "    \n",
        "    cap = cv2.VideoCapture(video_file)\n",
        "    while(cap.isOpened()):\n",
        "        flag, frame = cap.read()  \n",
        "        if flag == False:  \n",
        "                break\n",
        "        if i == length*interval:\n",
        "                break\n",
        "        if i % interval == 0:\n",
        "           frame = cv2.resize(frame, (256, 256))  # 256×256にリサイズ  \n",
        "           cv2.imwrite(image_dir+image_file % str(int(i/interval)).zfill(6), frame)\n",
        "        i += 1 \n",
        "    cap.release()  \n",
        " \n",
        "def main():\n",
        "    video_2_images()\n",
        "    \n",
        "if __name__ == '__main__':\n",
        "    main()"
      ],
      "execution_count": null,
      "outputs": []
    },
    {
      "cell_type": "code",
      "metadata": {
        "id": "FfcvgccXyOwh"
      },
      "source": [
        "# resultsフォルダーリセット\n",
        "if os.path.isdir('results'):\n",
        "    shutil.rmtree('results')\n",
        "\n",
        "# アニメ化の実行    \n",
        "!python inference.py\n",
        "\n",
        "# output.mp4をリセット\n",
        "if os.path.exists('./output.mp4'):\n",
        "   os.remove('./output.mp4')\n",
        "\n",
        "# アニメ顔をmp4に変換\n",
        "!ffmpeg -r 10 -i results/%06d.jpg -vcodec libx264 -pix_fmt yuv420p output.mp4"
      ],
      "execution_count": null,
      "outputs": []
    },
    {
      "cell_type": "code",
      "metadata": {
        "id": "MFEUXsjrI9l_"
      },
      "source": [
        "# mp4動画の再生\n",
        "from IPython.display import HTML\n",
        "from base64 import b64encode\n",
        "\n",
        "mp4 = open('./output.mp4', 'rb').read()\n",
        "data_url = 'data:video/mp4;base64,' + b64encode(mp4).decode()\n",
        "HTML(f\"\"\"\n",
        "<video width=\"70%\" height=\"70%\" controls>\n",
        "      <source src=\"{data_url}\" type=\"video/mp4\">\n",
        "</video>\"\"\")"
      ],
      "execution_count": null,
      "outputs": []
    }
  ]
}