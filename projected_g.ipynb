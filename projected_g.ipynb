{
  "cells": [
    {
      "cell_type": "markdown",
      "metadata": {
        "id": "view-in-github",
        "colab_type": "text"
      },
      "source": [
        "<a href=\"https://colab.research.google.com/github/cedro3/others2/blob/main/projected_g.ipynb\" target=\"_parent\"><img src=\"https://colab.research.google.com/assets/colab-badge.svg\" alt=\"Open In Colab\"/></a>"
      ]
    },
    {
      "cell_type": "code",
      "execution_count": null,
      "metadata": {
        "id": "VZ3pwUJSoOdO"
      },
      "outputs": [],
      "source": [
        "# --- セットアップ ---\n",
        "\n",
        "# Pytorch バージョン変更\n",
        "! pip install torch==1.10.1+cu111 torchvision==0.11.2+cu111 torchaudio==0.10.1 -f https://download.pytorch.org/whl/torch_stable.html\n",
        "\n",
        "# githubからコードを取得\n",
        "! git clone https://github.com/autonomousvision/projected_gan\n",
        "! pip install timm dill\n",
        "%cd projected_gan\n",
        "\n",
        "# 学習済みパラメータのダウンロード\n",
        "! wget https://s3.eu-central-1.amazonaws.com/avg-projects/projected_gan/models/art_painting.pkl\n",
        "! wget https://s3.eu-central-1.amazonaws.com/avg-projects/projected_gan/models/church.pkl\n",
        "#! wget https://s3.eu-central-1.amazonaws.com/avg-projects/projected_gan/models/cityscapes.pkl\n",
        "#! wget https://s3.eu-central-1.amazonaws.com/avg-projects/projected_gan/models/clevr.pkl\n",
        "#! wget https://s3.eu-central-1.amazonaws.com/avg-projects/projected_gan/models/ffhq.pkl\n",
        "#! wget https://s3.eu-central-1.amazonaws.com/avg-projects/projected_gan/models/flowers.pkl\n",
        "#! wget https://s3.eu-central-1.amazonaws.com/avg-projects/projected_gan/models/landscape.pkl\n",
        "! wget https://s3.eu-central-1.amazonaws.com/avg-projects/projected_gan/models/pokemon.pkl\n",
        "\n",
        "\n",
        "# 画像表示\n",
        "import matplotlib.pyplot as plt\n",
        "from PIL import Image\n",
        "import os\n",
        "import numpy as np\n",
        "\n",
        "def display_pic(folder):\n",
        "    fig = plt.figure(figsize=(30, 60))\n",
        "    files = os.listdir(folder)\n",
        "    files.sort()\n",
        "    for i, file in enumerate(files):\n",
        "        img = Image.open(folder+'/'+file)    \n",
        "        images = np.asarray(img)\n",
        "        ax = fig.add_subplot(10, 5, i+1, xticks=[], yticks=[])\n",
        "        image_plt = np.array(images)\n",
        "        ax.imshow(image_plt)\n",
        "        ax.set_xlabel(file, fontsize=25)               \n",
        "    plt.show()\n",
        "    plt.close()\n",
        "\n",
        "# リセットフォルダ\n",
        "import shutil\n",
        "\n",
        "def reset_folder(path):\n",
        "    if os.path.isdir(path):\n",
        "      shutil.rmtree(path)\n",
        "    os.makedirs(path,exist_ok=True)\n",
        "\n",
        "# 動画再生\n",
        "from IPython.display import display, HTML\n",
        "from IPython.display import HTML\n",
        "\n",
        "def display_mp4(path):\n",
        "    print('prepere to play movie...')\n",
        "    from base64 import b64encode\n",
        "    mp4 = open(path,'rb').read()\n",
        "    data_url = \"data:video/mp4;base64,\" + b64encode(mp4).decode()\n",
        "    display(HTML(\"\"\"\n",
        "    <video controls loop autoplay>\n",
        "        <source src=\"%s\" type=\"video/mp4\">\n",
        "    </video>\n",
        "    \"\"\" % data_url))"
      ]
    },
    {
      "cell_type": "code",
      "execution_count": null,
      "metadata": {
        "id": "chHmHK9wN-Im"
      },
      "outputs": [],
      "source": [
        "# サンプル画像生成\n",
        "reset_folder('out')\n",
        "! python gen_images.py --outdir=out\\\n",
        "                       --trunc=1.0\\\n",
        "                       --seeds=20-29 \\\n",
        "                       --network=pokemon.pkl"
      ]
    },
    {
      "cell_type": "code",
      "execution_count": null,
      "metadata": {
        "id": "8ydp2CBJPOW6"
      },
      "outputs": [],
      "source": [
        "# 画像の表示\n",
        "display_pic('out')"
      ]
    },
    {
      "cell_type": "code",
      "execution_count": null,
      "metadata": {
        "id": "WSLg-NKqOBeh"
      },
      "outputs": [],
      "source": [
        "# 補完動画の作成\n",
        "! python gen_video.py --output=lerp.mp4\\\n",
        "                      --trunc=1.0\\\n",
        "                      --seeds=20-49\\\n",
        "                      --grid=3x2 \\\n",
        "                      --network=pokemon.pkl"
      ]
    },
    {
      "cell_type": "code",
      "source": [
        "# 動画の再生\n",
        "display_mp4('lerp.mp4')"
      ],
      "metadata": {
        "id": "OtOuWkoPjdrZ"
      },
      "execution_count": null,
      "outputs": []
    }
  ],
  "metadata": {
    "accelerator": "GPU",
    "colab": {
      "collapsed_sections": [],
      "name": "projected_g",
      "provenance": [],
      "include_colab_link": true
    },
    "kernelspec": {
      "display_name": "Python 3",
      "name": "python3"
    },
    "language_info": {
      "name": "python"
    }
  },
  "nbformat": 4,
  "nbformat_minor": 0
}